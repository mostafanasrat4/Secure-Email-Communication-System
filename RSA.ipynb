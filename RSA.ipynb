{
 "cells": [
  {
   "cell_type": "code",
   "execution_count": 26,
   "metadata": {},
   "outputs": [
    {
     "name": "stdout",
     "output_type": "stream",
     "text": [
      "File Signature: 0x607e6b9b8f29f306abafa9980e34b703397d2db86ab29ebb4da94d7c855a8b2e2f667ae3d825bccf366c8f3e0897debde16b983738948305cd3133f4fa44580f627abbcbc9336f41139e11f27423c5bce8025a38e57cd173f6cb106ee3d9520d7c87a13bf57d271bd8627d5064019e73957935f8a9f9012f4712b2759abb66f8ad5f225c3823b5681b679bb8a57cb2a2f674a8da498b90a9384ab717861174089222353df3446748631ae27a839e3b596a4f7c69863f81767df4a31cf09406caaa558081f01417f8c10597e760679a94804afd7b63bc5d6a56517e0cd8005947b0cf1f5f041796046f9b5b800531753c4c11f75cc8ccbf3e1797cf33ec282fd8\n",
      "Signature is valid.\n"
     ]
    }
   ],
   "source": [
    "from Crypto.PublicKey import RSA\n",
    "from Crypto.Signature.pkcs1_15 import PKCS115_SigScheme\n",
    "from Crypto.Hash import SHA256\n",
    "from utils import read_file, write_to_file\n",
    "\n",
    "# Generate 2048-bit RSA key-pair (private & public keys)\n",
    "def generate_key_pair(public_key_file, private_key_file):\n",
    "    keyPair = RSA.generate(2048)\n",
    "    public_key = keyPair.public_key().export_key()\n",
    "    private_key = keyPair.export_key()\n",
    "\n",
    "    write_to_file(public_key_file, public_key)\n",
    "    write_to_file(private_key_file, private_key)\n",
    "    \n",
    "    return public_key, private_key\n",
    "\n",
    "\n",
    "# Load key from a file \n",
    "def load_key(key_file):\n",
    "    exported_key = read_file(key_file)\n",
    "    key = RSA.import_key(exported_key)\n",
    "    return key\n",
    "\n",
    "\n",
    "# Generate a digital signature for the given file using the private key\n",
    "def sign_file(input_file, private_key):\n",
    "    data = read_file(input_file)\n",
    "    key = RSA.import_key(private_key)\n",
    "\n",
    "    hash = SHA256.new(data)\n",
    "    signer = PKCS115_SigScheme(key)\n",
    "    \n",
    "    signature = signer.sign(hash)\n",
    "    return signature\n",
    "\n",
    "\n",
    "# Verify the digital signature for the given message using the public key\n",
    "def verify_signature(signed_file, signature, public_key):\n",
    "    data = read_file(signed_file)\n",
    "    key = RSA.import_key(public_key)\n",
    "\n",
    "    hash = SHA256.new(data)\n",
    "    verifier = PKCS115_SigScheme(key)\n",
    "\n",
    "    try:\n",
    "        verifier.verify(hash, signature)\n",
    "        return True\n",
    "    except Exception as e:\n",
    "        print(e)\n",
    "        return False, e\n",
    "\n",
    "\n",
    "# Demo Usage\n",
    "if __name__ == \"__main__\":\n",
    "\n",
    "    # File paths\n",
    "    input_file = \"RSA Demo Files/email.txt\"\n",
    "    public_key_file = \"RSA Demo Files/public.pem\"\n",
    "    private_key_file = \"RSA Demo Files/private.pem\"\n",
    "\n",
    "    # Generate RSA public-private keypair\n",
    "    public_key, private_key = generate_key_pair(public_key_file, private_key_file)\n",
    "\n",
    "    # Sign file using private key\n",
    "    signature = sign_file(input_file, private_key)\n",
    "    print(f\"File Signature: 0x{signature.hex()}\")\n",
    "\n",
    "    # Verify file signature using public key\n",
    "    isValid = verify_signature(input_file, signature, public_key)\n",
    "    if(isValid):\n",
    "        print(\"Signature is valid.\")\n",
    "    else:\n",
    "        print(\"Signature is invalid.\")"
   ]
  }
 ],
 "metadata": {
  "kernelspec": {
   "display_name": "Python 3",
   "language": "python",
   "name": "python3"
  },
  "language_info": {
   "codemirror_mode": {
    "name": "ipython",
    "version": 3
   },
   "file_extension": ".py",
   "mimetype": "text/x-python",
   "name": "python",
   "nbconvert_exporter": "python",
   "pygments_lexer": "ipython3",
   "version": "3.10.3"
  }
 },
 "nbformat": 4,
 "nbformat_minor": 2
}
