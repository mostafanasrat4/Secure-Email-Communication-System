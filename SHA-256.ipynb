{
 "cells": [
  {
   "cell_type": "code",
   "execution_count": null,
   "metadata": {},
   "outputs": [],
   "source": [
    "import hashlib\n",
    "# Calculate SHA-256 hash of the input data\n",
    "def calculate_sha256_hash(plaintext):\n",
    "    sha256_hash = hashlib.sha256(plaintext.encode()).hexdigest()\n",
    "    return sha256_hash\n",
    "\n",
    "# Example Usage:\n",
    "if __name__ == \"__main__\":\n",
    "    # Sample data (replace this with your actual email content)\n",
    "    email_content = \"This is the email content for data integrity verification.\"\n",
    "\n",
    "    # Calculate SHA-256 hash\n",
    "    hash_value = calculate_sha256_hash(email_content)\n",
    "\n",
    "    # Print the hash value\n",
    "    print(\"SHA-256 Hash Value:\")\n",
    "    print(hash_value)\n"
   ]
  },
  {
   "cell_type": "code",
   "execution_count": null,
   "metadata": {},
   "outputs": [],
   "source": [
    "import hashlib\n",
    "\n",
    "file_name = 'filename.jpg'\n",
    "\n",
    "# Calculate SHA-256 hash of the input file\n",
    "def calculate_sha256_hash(file_name):\n",
    "    hash_sha256 = hashlib.sha256()\n",
    "    with open(file_name, \"rb\") as file:\n",
    "        for chunk in iter(lambda: file.read(4096), b\"\"):\n",
    "            hash_sha256.update(chunk)\n",
    "    return hash_sha256.hexdigest()\n",
    "\n",
    "original_sha256 = 'e57e2454280342b30a5d32e814acdefb7f454120203e5ae1c9ae69980ef6253d'\n",
    "\n",
    "\n",
    "hash_value = calculate_sha256_hash(file_name)\n",
    "\n",
    "if original_sha256 == hash_value:\n",
    "    print \"SHA256 verified.\"\n",
    "else:\n",
    "    print \"SHA256 verification failed.\""
   ]
  },
  {
   "cell_type": "code",
   "execution_count": 18,
   "metadata": {},
   "outputs": [
    {
     "name": "stdout",
     "output_type": "stream",
     "text": [
      "SHA-256 Hash Value: fb26a086ba5519ba467c2dddabc9fdf4d1925bee311f64aa2a34db6ff001764c\n",
      "\n",
      "Hash Value 1 is valid\n",
      "Hash Value 2 is not valid\n"
     ]
    }
   ],
   "source": [
    "from Crypto.Hash import SHA256\n",
    "from utils import read_file\n",
    "\n",
    "\n",
    "# Calculate SHA-256 hash of the input file\n",
    "def calculate_sha256_hash(input_file):\n",
    " \n",
    "    sha256_hash = SHA256.new()\n",
    "    \n",
    "    data = read_file(input_file)\n",
    "    sha256_hash.update(data)\n",
    "    hash_value = sha256_hash.hexdigest()\n",
    "    \n",
    "    return hash_value\n",
    "\n",
    "# Verify if the given hash is valid\n",
    "def verify_sha256_hash(input_file, hash_value):\n",
    "    \n",
    "    calculated_hash_value = calculate_sha256_hash(input_file)\n",
    "\n",
    "    return calculated_hash_value == hash_value\n",
    "\n",
    "\n",
    "# Demo Usage:\n",
    "if __name__ == \"__main__\":\n",
    "\n",
    "    input_file = \"SHA-256 Demo Files/email.txt\"\n",
    "\n",
    "    hash_value_1 = \"fb26a086ba5519ba467c2dddabc9fdf4d1925bee311f64aa2a34db6ff001764c\"\n",
    "    hash_value_2 = \"54003c701ae3d216d49caf407c92fa01647f33704e1b1cfd200de82f34e7c3ca\"\n",
    "\n",
    "    # Calculate SHA-256 hash for the file\n",
    "    hash_value = calculate_sha256_hash(input_file)\n",
    "    print(f\"SHA-256 Hash Value: {hash_value}\\n\")\n",
    "\n",
    "    # Verify the above two hashes\n",
    "    \n",
    "    if(verify_sha256_hash(input_file, hash_value_1)):\n",
    "        print(f\"Hash Value 1 is valid\")\n",
    "    else:\n",
    "        print(f\"Hash Value 1 is not valid\")\n",
    "\n",
    "\n",
    "    if(verify_sha256_hash(input_file, hash_value_2)):\n",
    "        print(f\"Hash Value 2 is valid\")\n",
    "    else:\n",
    "        print(f\"Hash Value 2 is not valid\")"
   ]
  },
  {
   "cell_type": "code",
   "execution_count": 15,
   "metadata": {},
   "outputs": [
    {
     "name": "stdout",
     "output_type": "stream",
     "text": [
      "104451efebf9bb14ccff3d44bdbf251a9f84d5d78050e7a9db3c0c0fc0f14cc7\n"
     ]
    }
   ],
   "source": [
    "from utils import read_file\n",
    "sha256_hash = SHA256.new()\n",
    "sha256_hash.update(read_file(\"SHA-256 Demo Files/file.pdf\"))\n",
    "print(sha256_hash.hexdigest())"
   ]
  }
 ],
 "metadata": {
  "kernelspec": {
   "display_name": "Python 3",
   "language": "python",
   "name": "python3"
  },
  "language_info": {
   "codemirror_mode": {
    "name": "ipython",
    "version": 3
   },
   "file_extension": ".py",
   "mimetype": "text/x-python",
   "name": "python",
   "nbconvert_exporter": "python",
   "pygments_lexer": "ipython3",
   "version": "3.10.3"
  }
 },
 "nbformat": 4,
 "nbformat_minor": 2
}
